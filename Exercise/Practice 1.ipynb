{
 "cells": [
  {
   "cell_type": "code",
   "execution_count": 17,
   "id": "74c3e3c6-d068-431e-ba68-0df30115c792",
   "metadata": {},
   "outputs": [
    {
     "name": "stdout",
     "output_type": "stream",
     "text": [
      "Hello World\n",
      "777\n",
      "3.14\n",
      "my name is Ban Seok!\n"
     ]
    }
   ],
   "source": [
    "\"\"\"\n",
    "주석\n",
    "\n",
    "파이썬에서는 변수를 객체로써 다룬다\n",
    "\"\"\"\n",
    "print(\"Hello World\")\n",
    "print(777)\n",
    "pi = 3.14\n",
    "print(pi)\n",
    "\n",
    "intro = \"my name is \"\n",
    "name = \"Ban Seok\"\n",
    "print(intro + name + \"!\")\n"
   ]
  },
  {
   "cell_type": "code",
   "execution_count": 20,
   "id": "6f695a5c-5ffd-4217-928c-e1e3438e7670",
   "metadata": {},
   "outputs": [
    {
     "name": "stdout",
     "output_type": "stream",
     "text": [
      "True\n"
     ]
    }
   ],
   "source": [
    "\"\"\"\n",
    "Variables\n",
    "\"\"\"\n",
    "user_name = \"Ban Seok\"\n",
    "user_age = 24\n",
    "user_grade = \"sophomore\"\n",
    "is_student = True\n",
    "\n",
    "print(is_student)"
   ]
  },
  {
   "cell_type": "code",
   "execution_count": 33,
   "id": "374bf123-5b53-4f91-a90f-1a1eef3940c7",
   "metadata": {},
   "outputs": [
    {
     "name": "stdout",
     "output_type": "stream",
     "text": [
      "x =  1\n",
      "address is =  140706378622768\n"
     ]
    }
   ],
   "source": [
    "\"\"\"\n",
    "Assignment\n",
    "\"\"\"\n",
    "\n",
    "x = 1\n",
    "print('x = ', x)\n",
    "print(\"address is = \", id(x))"
   ]
  },
  {
   "cell_type": "code",
   "execution_count": 66,
   "id": "3b6c896d-172b-4c71-9599-13abda25de5e",
   "metadata": {},
   "outputs": [
    {
     "name": "stdout",
     "output_type": "stream",
     "text": [
      "BlueChickenHouse\n"
     ]
    }
   ],
   "source": [
    "\"\"\"\n",
    "Data Type : Integers\n",
    "\"\"\"\n",
    "Sofa = 4\n",
    "Pet = 0\n",
    "Tv = 1\n",
    "\n",
    "\"\"\"\n",
    "Data Type : Real Numbers\n",
    "\"\"\"\n",
    "pi = 3.14\n",
    "Tall = 182.5\n",
    "Temperature = 24.5\n",
    "\n",
    "\"\"\"\n",
    "Data Type : Strings\n",
    "\"\"\"\n",
    "favorite_color = \"Blue\"\n",
    "favorite_food = \"Chicken\"\n",
    "favorite_place =\"House\"\n",
    "\n",
    "favorites =favorite_color + favorite_food + favorite_place\n",
    "print(favorites)"
   ]
  },
  {
   "cell_type": "code",
   "execution_count": 76,
   "id": "4b8edfd7-c171-4dd4-926a-6113db388a0d",
   "metadata": {},
   "outputs": [
    {
     "name": "stdout",
     "output_type": "stream",
     "text": [
      "10\n",
      "one two three\n",
      "6\n",
      "8\n"
     ]
    }
   ],
   "source": [
    "a = 0\n",
    "a += 10 \n",
    "print (a)\n",
    "\n",
    "message = \"one \"\n",
    "message += \"two three\"\n",
    "print(message)\n",
    "\n",
    "a = 2\n",
    "a *= 3\n",
    "print(a)\n",
    "b = 2\n",
    "b **= 3\n",
    "print(b)\n"
   ]
  }
 ],
 "metadata": {
  "kernelspec": {
   "display_name": "Python 3",
   "language": "python",
   "name": "python3"
  },
  "language_info": {
   "codemirror_mode": {
    "name": "ipython",
    "version": 3
   },
   "file_extension": ".py",
   "mimetype": "text/x-python",
   "name": "python",
   "nbconvert_exporter": "python",
   "pygments_lexer": "ipython3",
   "version": "3.8.8"
  }
 },
 "nbformat": 4,
 "nbformat_minor": 5
}
