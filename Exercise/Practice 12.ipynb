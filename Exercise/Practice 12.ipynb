{
 "cells": [
  {
   "cell_type": "code",
   "execution_count": 1,
   "id": "246fad08-7d8c-4879-9ac4-ac17589633e8",
   "metadata": {},
   "outputs": [],
   "source": [
    "import datetime"
   ]
  },
  {
   "cell_type": "code",
   "execution_count": 4,
   "id": "54bd9fa9-d6ee-4a0d-86f9-ef4b059f2d9c",
   "metadata": {},
   "outputs": [
    {
     "name": "stdout",
     "output_type": "stream",
     "text": [
      "<class 'datetime.datetime'>\n"
     ]
    }
   ],
   "source": [
    "from datetime import datetime\n",
    "t = datetime(year=2021, month=10, day=27)\n",
    "print(type(t))"
   ]
  },
  {
   "cell_type": "code",
   "execution_count": 5,
   "id": "8b513bec-de12-4cc6-b99b-4990d657226e",
   "metadata": {},
   "outputs": [
    {
     "name": "stdout",
     "output_type": "stream",
     "text": [
      "2021-10-27 00:00:00\n"
     ]
    }
   ],
   "source": [
    "from dateutil import parser\n",
    "\n",
    "date = parser.parse(\"27th of October, 2021\")\n",
    "print(date)"
   ]
  },
  {
   "cell_type": "code",
   "execution_count": 7,
   "id": "611fdf30-83d3-433b-9b5b-a84686cf1bdf",
   "metadata": {},
   "outputs": [
    {
     "data": {
      "text/plain": [
       "'Wednesday'"
      ]
     },
     "execution_count": 7,
     "metadata": {},
     "output_type": "execute_result"
    }
   ],
   "source": [
    "date.strftime('%A')"
   ]
  },
  {
   "cell_type": "code",
   "execution_count": 12,
   "id": "ad92f881-4bc4-4bb5-b639-b092be3c7a80",
   "metadata": {},
   "outputs": [
    {
     "name": "stdout",
     "output_type": "stream",
     "text": [
      "2021-10-28\n"
     ]
    }
   ],
   "source": [
    "import numpy as np\n",
    "\n",
    "dates = np.array(['2021-10-27', '2021-10-28'])\n",
    "type(dates[0])\n",
    "\n",
    "date = np.datetime64('2021-10-28')\n",
    "print(date)"
   ]
  },
  {
   "cell_type": "code",
   "execution_count": 13,
   "id": "07b0db37-4db2-4258-8216-88d00363b617",
   "metadata": {},
   "outputs": [
    {
     "data": {
      "text/plain": [
       "array(['2021-10-28', '2021-10-29', '2021-10-30', '2021-10-31',\n",
       "       '2021-11-01', '2021-11-02', '2021-11-03'], dtype='datetime64[D]')"
      ]
     },
     "execution_count": 13,
     "metadata": {},
     "output_type": "execute_result"
    }
   ],
   "source": [
    "date + np.arange(7)"
   ]
  },
  {
   "cell_type": "code",
   "execution_count": 14,
   "id": "5c9ddfc1-089d-4bb4-939f-953452bca366",
   "metadata": {},
   "outputs": [
    {
     "name": "stdout",
     "output_type": "stream",
     "text": [
      "2021-10-28T11:38\n"
     ]
    }
   ],
   "source": [
    "t = np.datetime64('2021-10-28 11:38')\n",
    "print(t)"
   ]
  },
  {
   "cell_type": "code",
   "execution_count": 16,
   "id": "9c977d41-0e49-446f-b4a5-c549a7479393",
   "metadata": {},
   "outputs": [
    {
     "name": "stdout",
     "output_type": "stream",
     "text": [
      "2021-10-28T11:39:10.200000000\n"
     ]
    }
   ],
   "source": [
    "t = np.datetime64('2021-10-28 11:39:10.20', 'ns')\n",
    "print(t)"
   ]
  },
  {
   "cell_type": "code",
   "execution_count": 18,
   "id": "e82cf221-064f-4774-8e78-36f0ba21f347",
   "metadata": {},
   "outputs": [
    {
     "name": "stdout",
     "output_type": "stream",
     "text": [
      "2021-10-27 00:00:00\n"
     ]
    }
   ],
   "source": [
    "import pandas as pd\n",
    "\n",
    "date = pd.to_datetime(\"27th of October, 2021\")\n",
    "print(date)"
   ]
  },
  {
   "cell_type": "code",
   "execution_count": 19,
   "id": "3c3eae71-4315-42c3-8637-2160f5fda389",
   "metadata": {},
   "outputs": [
    {
     "data": {
      "text/plain": [
       "'Wednesday'"
      ]
     },
     "execution_count": 19,
     "metadata": {},
     "output_type": "execute_result"
    }
   ],
   "source": [
    "date.strftime('%A')"
   ]
  },
  {
   "cell_type": "code",
   "execution_count": 23,
   "id": "bd06234a-a0c7-4482-96e9-279217e26ce7",
   "metadata": {},
   "outputs": [
    {
     "data": {
      "text/plain": [
       "DatetimeIndex([          '2021-10-27 00:00:00',\n",
       "               '2021-10-27 00:00:00.000000001',\n",
       "               '2021-10-27 00:00:00.000000002',\n",
       "               '2021-10-27 00:00:00.000000003',\n",
       "               '2021-10-27 00:00:00.000000004',\n",
       "               '2021-10-27 00:00:00.000000005',\n",
       "               '2021-10-27 00:00:00.000000006'],\n",
       "              dtype='datetime64[ns]', freq=None)"
      ]
     },
     "execution_count": 23,
     "metadata": {},
     "output_type": "execute_result"
    }
   ],
   "source": [
    "date + pd.to_timedelta(np.arange(7))"
   ]
  },
  {
   "cell_type": "code",
   "execution_count": 28,
   "id": "57311d25-a4fa-4a63-afc4-6fc03aeedbc8",
   "metadata": {},
   "outputs": [
    {
     "name": "stdout",
     "output_type": "stream",
     "text": [
      "DatetimeIndex(['2021-10-27', '2021-10-28', '2021-10-29', '2021-10-30',\n",
      "               '2021-10-31', '2021-11-01', '2021-11-02'],\n",
      "              dtype='datetime64[ns]', freq=None)\n",
      "2021-10-27    0\n",
      "2021-10-28    1\n",
      "2021-10-29    2\n",
      "2021-10-30    3\n",
      "2021-10-31    4\n",
      "2021-11-01    5\n",
      "2021-11-02    6\n",
      "dtype: int64\n"
     ]
    },
    {
     "data": {
      "text/plain": [
       "2021-10-27    0\n",
       "2021-10-28    1\n",
       "2021-10-29    2\n",
       "2021-10-30    3\n",
       "2021-10-31    4\n",
       "dtype: int64"
      ]
     },
     "execution_count": 28,
     "metadata": {},
     "output_type": "execute_result"
    }
   ],
   "source": [
    "ind = pd.DatetimeIndex(['2021-10-27', '2021-10-28', '2021-10-29', '2021-10-30',\n",
    "                        '2021-10-31', '2021-11-01', '2021-11-02'])\n",
    "print(ind)\n",
    "\n",
    "ser = pd.Series([0,1,2,3,4,5,6], index = ind)\n",
    "print(ser)\n",
    "\n",
    "ser['2021-10-27':'2021-10-31']"
   ]
  },
  {
   "cell_type": "code",
   "execution_count": 31,
   "id": "8385bdab-720e-4c45-a6d3-367a4711d24d",
   "metadata": {},
   "outputs": [
    {
     "data": {
      "text/plain": [
       "2021-11-01    5\n",
       "2021-11-02    6\n",
       "dtype: int64"
      ]
     },
     "execution_count": 31,
     "metadata": {},
     "output_type": "execute_result"
    }
   ],
   "source": [
    "ser['2021-11']"
   ]
  },
  {
   "cell_type": "code",
   "execution_count": 36,
   "id": "9b84230d-72ab-48eb-835d-c1303c288afd",
   "metadata": {},
   "outputs": [
    {
     "name": "stdout",
     "output_type": "stream",
     "text": [
      "DatetimeIndex(['2015-07-03', '2015-07-04', '2015-07-06', '2015-07-07',\n",
      "               '2015-07-08'],\n",
      "              dtype='datetime64[ns]', freq=None)\n"
     ]
    }
   ],
   "source": [
    "dates = pd.to_datetime([datetime(2015, 7, 3), \n",
    "                        \"4th of July, 2015\",\n",
    "                        '2015-Jul-6',\n",
    "                        '07-07-2015',\n",
    "                        '20150708'])\n",
    "\n",
    "print(dates)"
   ]
  },
  {
   "cell_type": "code",
   "execution_count": 40,
   "id": "2b28bcda-2be5-42de-b65e-51bc8afc29d0",
   "metadata": {},
   "outputs": [
    {
     "data": {
      "text/plain": [
       "PeriodIndex(['2015-07-03', '2015-07-04', '2015-07-06', '2015-07-07',\n",
       "             '2015-07-08'],\n",
       "            dtype='period[D]', freq='D')"
      ]
     },
     "execution_count": 40,
     "metadata": {},
     "output_type": "execute_result"
    }
   ],
   "source": [
    "dates.to_period('D')"
   ]
  },
  {
   "cell_type": "code",
   "execution_count": 38,
   "id": "715ca8b2-f54a-4425-9c9a-b6e4f9af159f",
   "metadata": {},
   "outputs": [
    {
     "data": {
      "text/plain": [
       "PeriodIndex(['2015-06-29/2015-07-05', '2015-06-29/2015-07-05',\n",
       "             '2015-07-06/2015-07-12', '2015-07-06/2015-07-12',\n",
       "             '2015-07-06/2015-07-12'],\n",
       "            dtype='period[W-SUN]', freq='W-SUN')"
      ]
     },
     "execution_count": 38,
     "metadata": {},
     "output_type": "execute_result"
    }
   ],
   "source": [
    "dates.to_period('W')"
   ]
  },
  {
   "cell_type": "code",
   "execution_count": 41,
   "id": "ba95e022-e19b-4b13-94b0-fcd0e1a224e3",
   "metadata": {},
   "outputs": [
    {
     "data": {
      "text/plain": [
       "TimedeltaIndex(['0 days', '1 days', '3 days', '4 days', '5 days'], dtype='timedelta64[ns]', freq=None)"
      ]
     },
     "execution_count": 41,
     "metadata": {},
     "output_type": "execute_result"
    }
   ],
   "source": [
    "dates - dates[0]"
   ]
  },
  {
   "cell_type": "code",
   "execution_count": 42,
   "id": "79f821a7-2569-40e1-b93c-f67b2e2b0ce9",
   "metadata": {},
   "outputs": [
    {
     "data": {
      "text/plain": [
       "DatetimeIndex(['2021-10-27', '2021-10-28', '2021-10-29', '2021-10-30',\n",
       "               '2021-10-31'],\n",
       "              dtype='datetime64[ns]', freq='D')"
      ]
     },
     "execution_count": 42,
     "metadata": {},
     "output_type": "execute_result"
    }
   ],
   "source": [
    "pd.date_range('2021-10-27', '2021-10-31')"
   ]
  },
  {
   "cell_type": "code",
   "execution_count": 43,
   "id": "ce4db778-552a-453e-9de8-71b99166e8aa",
   "metadata": {},
   "outputs": [
    {
     "data": {
      "text/plain": [
       "DatetimeIndex(['2021-10-27', '2021-10-28', '2021-10-29', '2021-10-30',\n",
       "               '2021-10-31'],\n",
       "              dtype='datetime64[ns]', freq='D')"
      ]
     },
     "execution_count": 43,
     "metadata": {},
     "output_type": "execute_result"
    }
   ],
   "source": [
    "pd.date_range('2021-10-27', periods=5)"
   ]
  },
  {
   "cell_type": "code",
   "execution_count": 44,
   "id": "a6466349-5504-4e86-b408-9cf8e56b6b67",
   "metadata": {},
   "outputs": [
    {
     "data": {
      "text/plain": [
       "DatetimeIndex(['2021-10-27 00:00:00', '2021-10-27 01:00:00',\n",
       "               '2021-10-27 02:00:00', '2021-10-27 03:00:00',\n",
       "               '2021-10-27 04:00:00', '2021-10-27 05:00:00',\n",
       "               '2021-10-27 06:00:00', '2021-10-27 07:00:00',\n",
       "               '2021-10-27 08:00:00', '2021-10-27 09:00:00',\n",
       "               '2021-10-27 10:00:00', '2021-10-27 11:00:00'],\n",
       "              dtype='datetime64[ns]', freq='H')"
      ]
     },
     "execution_count": 44,
     "metadata": {},
     "output_type": "execute_result"
    }
   ],
   "source": [
    "pd.date_range('2021-10-27', periods=12, freq='H')"
   ]
  },
  {
   "cell_type": "code",
   "execution_count": 45,
   "id": "7db1a0fa-2032-4b7d-ae23-b262a661308b",
   "metadata": {},
   "outputs": [
    {
     "data": {
      "text/plain": [
       "PeriodIndex(['2021-10', '2021-11', '2021-12', '2022-01', '2022-02', '2022-03',\n",
       "             '2022-04', '2022-05', '2022-06', '2022-07', '2022-08', '2022-09'],\n",
       "            dtype='period[M]', freq='M')"
      ]
     },
     "execution_count": 45,
     "metadata": {},
     "output_type": "execute_result"
    }
   ],
   "source": [
    "pd.period_range('2021-10', periods=12, freq='M')"
   ]
  },
  {
   "cell_type": "code",
   "execution_count": 46,
   "id": "b00c94d1-768a-431d-b972-373ef0217cc1",
   "metadata": {},
   "outputs": [
    {
     "data": {
      "text/plain": [
       "TimedeltaIndex(['0 days 00:00:00', '0 days 01:00:00', '0 days 02:00:00',\n",
       "                '0 days 03:00:00', '0 days 04:00:00', '0 days 05:00:00',\n",
       "                '0 days 06:00:00', '0 days 07:00:00', '0 days 08:00:00',\n",
       "                '0 days 09:00:00'],\n",
       "               dtype='timedelta64[ns]', freq='H')"
      ]
     },
     "execution_count": 46,
     "metadata": {},
     "output_type": "execute_result"
    }
   ],
   "source": [
    "pd.timedelta_range(0, periods=10, freq='H')"
   ]
  }
 ],
 "metadata": {
  "kernelspec": {
   "display_name": "Python 3",
   "language": "python",
   "name": "python3"
  },
  "language_info": {
   "codemirror_mode": {
    "name": "ipython",
    "version": 3
   },
   "file_extension": ".py",
   "mimetype": "text/x-python",
   "name": "python",
   "nbconvert_exporter": "python",
   "pygments_lexer": "ipython3",
   "version": "3.8.8"
  }
 },
 "nbformat": 4,
 "nbformat_minor": 5
}
