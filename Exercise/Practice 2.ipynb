{
 "cells": [
  {
   "cell_type": "code",
   "execution_count": null,
   "id": "153c4333-d38a-4953-aead-fa305f14b6dd",
   "metadata": {},
   "outputs": [],
   "source": [
    "\"\"\"\n",
    "Boolean Variables\n",
    "\"\"\""
   ]
  },
  {
   "cell_type": "code",
   "execution_count": 13,
   "id": "7777a717-986a-4064-b606-f25b796fa266",
   "metadata": {},
   "outputs": [
    {
     "name": "stdout",
     "output_type": "stream",
     "text": [
      "True\n",
      "True\n",
      "False\n"
     ]
    }
   ],
   "source": [
    "\n",
    "\n",
    "#Equal Operator == 같을경우 True 같지않을 경우 False\n",
    "print(\"Yes\" == \"Yes\")\n",
    "print((2>1) == (5<10))\n",
    "c= '2'\n",
    "d = 2\n",
    "print(c==d)"
   ]
  },
  {
   "cell_type": "code",
   "execution_count": 8,
   "id": "9907c3c9-ee43-4815-810f-8234584edaa8",
   "metadata": {},
   "outputs": [
    {
     "name": "stdout",
     "output_type": "stream",
     "text": [
      "False\n",
      "True\n"
     ]
    }
   ],
   "source": [
    "#Not Equals Operator != 같을경우 False 같지않을경우 True\n",
    "print(\"Yes\" != \"Yes\")\n",
    "print(\"Yes\" != \"No\")"
   ]
  },
  {
   "cell_type": "code",
   "execution_count": 14,
   "id": "bdb8a1fd-e966-4f9a-91ac-d32d4124b96a",
   "metadata": {},
   "outputs": [
    {
     "name": "stdout",
     "output_type": "stream",
     "text": [
      "True\n",
      "True\n",
      "False\n",
      "True\n",
      "False\n",
      "True\n"
     ]
    }
   ],
   "source": [
    "# or Operator A,B 중에서 한개이상이 True인경우 True 그 외 False\n",
    "print(True or True)\n",
    "print(True or False)\n",
    "print(False or False)\n",
    "print(1 < 2 or 3 < 1)\n",
    "print(3 < 1 or 1 > 6)\n",
    "print(1 ==1 or 1 < 2)"
   ]
  },
  {
   "cell_type": "code",
   "execution_count": 15,
   "id": "b54cc961-f1eb-456d-afe1-0674ca32f514",
   "metadata": {},
   "outputs": [],
   "source": [
    "# and Operator A,B 모두 True 인경우 True 그외 False\n",
    "# Not 연산 반대로 하면됨"
   ]
  },
  {
   "cell_type": "code",
   "execution_count": null,
   "id": "158dff6a-270b-4df5-a067-3a6d9317f0c0",
   "metadata": {},
   "outputs": [],
   "source": []
  },
  {
   "cell_type": "code",
   "execution_count": 44,
   "id": "bb1be9f0-1500-4bfe-acc3-eaa05b26673a",
   "metadata": {},
   "outputs": [
    {
     "name": "stdout",
     "output_type": "stream",
     "text": [
      "이건 말티푸야\n",
      "True\n"
     ]
    }
   ],
   "source": [
    "\"\"\"조건문 \n",
    "True : 코드실행\n",
    "False : 코드 실행x\n",
    "조건문 유형 if/elif(=else if)/else\n",
    "\"\"\"\n",
    "\n",
    "puppy = \"maltepoo\"\n",
    "is_yes = \"False\"\n",
    "\n",
    "if  puppy == \"maltese\":\n",
    "    print(\"말티즈\")\n",
    "    is_yes = True\n",
    "                \n",
    "elif puppy == \"poodle\":\n",
    "    print(\"푸들\")\n",
    "    is_yes = True\n",
    "    \n",
    "elif puppy == \"shitzu\":\n",
    "    print(\"시츄\")\n",
    "    is_yes = True\n",
    "    \n",
    "else:\n",
    "    print(\"이건 말티푸야\")\n",
    "    is_yes = True\n",
    "\n",
    "print(is_yes)"
   ]
  },
  {
   "cell_type": "code",
   "execution_count": 45,
   "id": "76d2074f-f8ac-4213-a1a5-a1aea2a3d78e",
   "metadata": {},
   "outputs": [
    {
     "name": "stdout",
     "output_type": "stream",
     "text": [
      "Eror\n",
      "continue\n"
     ]
    }
   ],
   "source": [
    "x = 1\n",
    "\n",
    "try:\n",
    "    print(y)\n",
    "    print(x)\n",
    "    \n",
    "except:\n",
    "    print('Eror')\n",
    "    \n",
    "print(\"continue\")"
   ]
  }
 ],
 "metadata": {
  "kernelspec": {
   "display_name": "Python 3",
   "language": "python",
   "name": "python3"
  },
  "language_info": {
   "codemirror_mode": {
    "name": "ipython",
    "version": 3
   },
   "file_extension": ".py",
   "mimetype": "text/x-python",
   "name": "python",
   "nbconvert_exporter": "python",
   "pygments_lexer": "ipython3",
   "version": "3.8.8"
  }
 },
 "nbformat": 4,
 "nbformat_minor": 5
}
