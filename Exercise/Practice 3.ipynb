{
 "cells": [
  {
   "cell_type": "code",
   "execution_count": 5,
   "id": "715f05d7-29f3-448b-aa72-da8d243b5b4b",
   "metadata": {},
   "outputs": [
    {
     "name": "stdout",
     "output_type": "stream",
     "text": [
      "[2, 3, 5, 7, 11]\n",
      "[]\n"
     ]
    }
   ],
   "source": [
    "#List\n",
    "\n",
    "primes = [2, 3, 5, 7, 11] #아이템의 중복이 가능하다\n",
    "print(primes)\n",
    "\n",
    "empty_list = []\n",
    "print(empty_list)"
   ]
  },
  {
   "cell_type": "code",
   "execution_count": 8,
   "id": "3acba93c-ea27-46fb-8e8a-7ad9ba8566f3",
   "metadata": {},
   "outputs": [
    {
     "name": "stdout",
     "output_type": "stream",
     "text": [
      "['Jenny', 1, 2, ['a', 1]]\n"
     ]
    }
   ],
   "source": [
    "#여러 데이터타입의 아이템을 포함가능\n",
    "mixed = ['Jenny', 1, 2, ['a',1 ]] # 정수, 문자열 etc...\n",
    "print(mixed)"
   ]
  },
  {
   "cell_type": "code",
   "execution_count": 11,
   "id": "49927f79-62b3-4179-938b-d1c73f3db570",
   "metadata": {},
   "outputs": [
    {
     "name": "stdout",
     "output_type": "stream",
     "text": [
      "1\n",
      "2\n",
      "3\n",
      "4\n",
      "5\n"
     ]
    }
   ],
   "source": [
    "#Index 리스트의 특정 위치를 나타내는 정수\n",
    "\n",
    "numbers = [1, 2, 3, 4, 5]\n",
    "\n",
    "\"\"\"\n",
    "Zero-indexing\n",
    "\"\"\"\n",
    "print(numbers[0])\n",
    "print(numbers[1])\n",
    "print(numbers[2])\n",
    "print(numbers[3])\n",
    "print(numbers[4])"
   ]
  },
  {
   "cell_type": "code",
   "execution_count": 17,
   "id": "3c9fd2e6-0da3-4e4d-a22a-c8bd4d1900b1",
   "metadata": {},
   "outputs": [
    {
     "name": "stdout",
     "output_type": "stream",
     "text": [
      "5\n",
      "4\n",
      "3\n",
      "2\n",
      "1\n"
     ]
    }
   ],
   "source": [
    "\"\"\"\n",
    "Negative indexing\n",
    "가장 끝부터 \n",
    "\"\"\"\n",
    "print(numbers[-1])\n",
    "print(numbers[-2])\n",
    "print(numbers[-3])\n",
    "print(numbers[-4])\n",
    "print(numbers[-5])"
   ]
  },
  {
   "cell_type": "code",
   "execution_count": 27,
   "id": "1447a442-4794-43f0-b76e-20e618d0f763",
   "metadata": {},
   "outputs": [
    {
     "name": "stdout",
     "output_type": "stream",
     "text": [
      "[5, 3, 4]\n"
     ]
    }
   ],
   "source": [
    "#List Slicing\n",
    "\n",
    "Numbers =  [1, 2, 3, 4, 5]\n",
    "Number_slice = Numbers[1:4] # 시작 인덱스는 포함 끝나는 인덱스는 포함이 안됨!!\n",
    "Number_slice[0] = 5  #0번 인덱스의 value를 5로 바꿈\n",
    "print(Number_slice)"
   ]
  },
  {
   "cell_type": "code",
   "execution_count": 35,
   "id": "98e9484d-ea85-4de2-b648-6dfc4e011a14",
   "metadata": {},
   "outputs": [
    {
     "name": "stdout",
     "output_type": "stream",
     "text": [
      "양식\n",
      "['해우리', '한식', '된장찌개']\n"
     ]
    }
   ],
   "source": [
    "#Multi-dimensional Lists\n",
    "\n",
    "restaurants = [['해우리', '한식', '김치찌개'], ['짜장명가', '중식', '자장면'],\n",
    "               ['찌동', '한식', '비빔밥'], ['맘터', '양식', '싸이버거']]\n",
    "\n",
    "print(restaurants[3][1])\n",
    "\n",
    "restaurants[0][2] = '된장찌개'\n",
    "print(restaurants[0])\n"
   ]
  },
  {
   "cell_type": "code",
   "execution_count": 37,
   "id": "e6bec2ef-5546-4184-9205-e70e8d913623",
   "metadata": {},
   "outputs": [
    {
     "name": "stdout",
     "output_type": "stream",
     "text": [
      "[1, 2, 3, 4, 5, 6]\n"
     ]
    }
   ],
   "source": [
    "#리스트 합치기\n",
    "\n",
    "items_one = [1,2,3]\n",
    "items_two = [4,5,6]\n",
    "\n",
    "total = items_one + items_two\n",
    "print(total)"
   ]
  },
  {
   "cell_type": "code",
   "execution_count": 42,
   "id": "f263523a-617e-441a-91de-13a6eb7cc030",
   "metadata": {},
   "outputs": [
    {
     "name": "stdout",
     "output_type": "stream",
     "text": [
      "4\n",
      "2\n"
     ]
    }
   ],
   "source": [
    "#Useful Methods for Lists\n",
    "\n",
    "#len() \n",
    "list_one = [1,2,3,4]\n",
    "size = len(list_one)\n",
    "print(size)\n",
    "\n",
    "#count() 특정아이템의 개수\n",
    "list_two = ['o', 'x', 'o', 'x', 'x']\n",
    "numO = list_two.count('o')\n",
    "print(numO)"
   ]
  },
  {
   "cell_type": "code",
   "execution_count": 58,
   "id": "aae0fc85-9c2f-4374-9fc6-03810ebf2d0d",
   "metadata": {},
   "outputs": [
    {
     "name": "stdout",
     "output_type": "stream",
     "text": [
      "['chicken', 'burger', 'pizza']\n",
      "[1, 2, 3, 4]\n",
      "[1, 2, 3, 4]\n",
      "[1, 2, 3]\n"
     ]
    },
    {
     "ename": "ValueError",
     "evalue": "list.remove(x): x not in list",
     "output_type": "error",
     "traceback": [
      "\u001b[1;31m---------------------------------------------------------------------------\u001b[0m",
      "\u001b[1;31mValueError\u001b[0m                                Traceback (most recent call last)",
      "\u001b[1;32m<ipython-input-58-99d5f4023f20>\u001b[0m in \u001b[0;36m<module>\u001b[1;34m\u001b[0m\n\u001b[0;32m     18\u001b[0m \u001b[1;33m\u001b[0m\u001b[0m\n\u001b[0;32m     19\u001b[0m \u001b[1;31m#만약에 없는 인자를 제거한다면?\u001b[0m\u001b[1;33m\u001b[0m\u001b[1;33m\u001b[0m\u001b[1;33m\u001b[0m\u001b[0m\n\u001b[1;32m---> 20\u001b[1;33m \u001b[0mNums2\u001b[0m\u001b[1;33m.\u001b[0m\u001b[0mremove\u001b[0m\u001b[1;33m(\u001b[0m\u001b[1;36m5\u001b[0m\u001b[1;33m)\u001b[0m\u001b[1;33m\u001b[0m\u001b[1;33m\u001b[0m\u001b[0m\n\u001b[0m\u001b[0;32m     21\u001b[0m \u001b[0mprint\u001b[0m\u001b[1;33m(\u001b[0m\u001b[0mNums2\u001b[0m\u001b[1;33m)\u001b[0m\u001b[1;33m\u001b[0m\u001b[1;33m\u001b[0m\u001b[0m\n",
      "\u001b[1;31mValueError\u001b[0m: list.remove(x): x not in list"
     ]
    }
   ],
   "source": [
    "#apend() 아이템을 리스트의 끝에 추가\n",
    "orders = ['chicken', 'burger']\n",
    "orders.append('pizza')\n",
    "print(orders)\n",
    "\n",
    "#insert() 아이템을 리스트의 특정위치에 추가\n",
    "Nums = [1,3,4]\n",
    "Nums.insert(1 , 2) #(위치=인덱스, 추가 할 아이템) \n",
    "print(Nums)\n",
    "\n",
    "#pop() 특정위치의 아이템을 삭제\n",
    "Nums2 = [1,2,3,4,4]\n",
    "Nums2.pop(3) # 인덱스 3번\n",
    "print(Nums2)\n",
    "\n",
    "Nums2.remove(4)\n",
    "print(Nums2)\n",
    "\n",
    "#만약에 없는 인자를 제거한다면?\n",
    "Nums2.remove(5)\n",
    "print(Nums2)"
   ]
  },
  {
   "cell_type": "code",
   "execution_count": 68,
   "id": "f407bb05-c305-433b-8ef2-86d22e9a76b7",
   "metadata": {},
   "outputs": [
    {
     "name": "stdout",
     "output_type": "stream",
     "text": [
      "[1, 2, 3, 4]\n",
      "[1, 2, 3, 4]\n"
     ]
    }
   ],
   "source": [
    "#sort() 문자든 숫자든 오름차순으로 정렬한다\n",
    "numbers = [4, 2, 1, 3]\n",
    "numbers.sort()\n",
    "print(numbers)\n",
    "sorted_numbers = sorted(numbers)\n",
    "print(sorted_numbers)"
   ]
  }
 ],
 "metadata": {
  "kernelspec": {
   "display_name": "Python 3",
   "language": "python",
   "name": "python3"
  },
  "language_info": {
   "codemirror_mode": {
    "name": "ipython",
    "version": 3
   },
   "file_extension": ".py",
   "mimetype": "text/x-python",
   "name": "python",
   "nbconvert_exporter": "python",
   "pygments_lexer": "ipython3",
   "version": "3.8.8"
  }
 },
 "nbformat": 4,
 "nbformat_minor": 5
}
