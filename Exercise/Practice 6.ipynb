{
 "cells": [
  {
   "cell_type": "code",
   "execution_count": 14,
   "id": "a95db4a1-88d3-498c-8260-484c4f32e701",
   "metadata": {},
   "outputs": [],
   "source": [
    "import numpy as np\n",
    "import pandas as pd\n",
    "from matplotlib import pyplot as plt"
   ]
  },
  {
   "cell_type": "code",
   "execution_count": 15,
   "id": "0cb56ed7-4a3a-4716-90c9-42eab6da56c6",
   "metadata": {},
   "outputs": [
    {
     "name": "stdout",
     "output_type": "stream",
     "text": [
      "[1 2 3 4]\n"
     ]
    }
   ],
   "source": [
    "#Creating a Numpy Array\n",
    "\n",
    "lst = [1,2,3,4]\n",
    "\n",
    "arr = np.array(lst)\n",
    "print(arr)"
   ]
  },
  {
   "cell_type": "code",
   "execution_count": 16,
   "id": "43b26b86-65ee-4b1a-b362-57f46f1fbe73",
   "metadata": {},
   "outputs": [
    {
     "name": "stdout",
     "output_type": "stream",
     "text": [
      "int32\n"
     ]
    }
   ],
   "source": [
    "# .dtype\n",
    "print(arr.dtype)"
   ]
  },
  {
   "cell_type": "code",
   "execution_count": 18,
   "id": "c7177922-c663-4ef2-807a-db92a2298fee",
   "metadata": {},
   "outputs": [
    {
     "name": "stdout",
     "output_type": "stream",
     "text": [
      "56\n",
      "104\n"
     ]
    }
   ],
   "source": [
    "from sys import getsizeof\n",
    "\n",
    "lst = []\n",
    "print(getsizeof(lst))\n",
    "\n",
    "arr = np.array(lst)\n",
    "print(getsizeof(arr))"
   ]
  },
  {
   "cell_type": "code",
   "execution_count": 23,
   "id": "4f131294-fe95-4eb0-acb7-9e620add3b28",
   "metadata": {},
   "outputs": [
    {
     "name": "stdout",
     "output_type": "stream",
     "text": [
      "[25, 20, 35, 15, 15, 30, 45, 30]\n",
      "[25 20 35 15 15 30 45 30]\n"
     ]
    }
   ],
   "source": [
    "#Operations with Numpy Arrays\n",
    "\n",
    "prices = [30, 25, 40, 20, 20, 35 ,50, 35]\n",
    "\n",
    "#with list\n",
    "new_prices = [price-5 for price in prices]\n",
    "print(new_prices)\n",
    "\n",
    "#with numpy\n",
    "prices_arr = np.array(prices)\n",
    "prices_arr = prices_arr -5\n",
    "print(prices_arr)"
   ]
  },
  {
   "cell_type": "code",
   "execution_count": 41,
   "id": "1f107e52-3dcd-40d8-8573-eab2b35150ae",
   "metadata": {},
   "outputs": [
    {
     "name": "stdout",
     "output_type": "stream",
     "text": [
      "[92 90 77 95 97]\n",
      "[258 279 246 274 270]\n",
      "[86.         93.         82.         91.33333333 90.        ]\n",
      "93\n",
      "[94 88]\n",
      "[[ 92  94  88  91  87]\n",
      " [ 79 100  86  93  91]\n",
      " [ 87  85  72  90  92]]\n",
      "87\n",
      "[87 91 92]\n"
     ]
    }
   ],
   "source": [
    "#practice_test_grade\n",
    "test_1 = np.array([92, 94, 88, 91, 87])\n",
    "test_2 = np.array([79, 100, 86, 93, 91])\n",
    "test_3 = np.array([87, 85, 72, 90, 92])\n",
    "\n",
    "test_3_fixed = test_3 + 5\n",
    "print(test_3_fixed)\n",
    "\n",
    "total_grade = test_1 + test_2 + test_3\n",
    "print(total_grade)\n",
    "\n",
    "final_grade = total_grade / 3\n",
    "print(final_grade)\n",
    "\n",
    "jeremy_test_2 = test_2[3]\n",
    "print(jeremy_test_2)\n",
    "\n",
    "manual_adwoa_test_1 = np.array([test_1[1], test_1[2]])\n",
    "print(manual_adwoa_test_1)\n",
    "\n",
    "student_scores = np.array([test_1, test_2, test_3])\n",
    "print(student_scores)\n",
    "\n",
    "print(student_scores[2, 0])\n",
    "\n",
    "print(student_scores[:, 4])"
   ]
  },
  {
   "cell_type": "code",
   "execution_count": 52,
   "id": "6d11611f-1ee7-4c20-8591-25699a8d430e",
   "metadata": {},
   "outputs": [
    {
     "name": "stdout",
     "output_type": "stream",
     "text": [
      "[False False False  True  True  True]\n",
      "[4 5 6]\n",
      "[1 5 6]\n",
      "[1]\n"
     ]
    }
   ],
   "source": [
    "#Logical Operations\n",
    "\n",
    "#masking\n",
    "a = np.array([1,2,3,4,5,6])\n",
    "mask = a > 3\n",
    "print(mask)\n",
    "\n",
    "#selection\n",
    "selected = a[a > 3]\n",
    "print(selected)\n",
    "\n",
    "#combined\n",
    "selected = a[(a > 4) | (a < 2)]\n",
    "print(selected)\n",
    "\n",
    "selected = a[(a < 4) & (a < 2)]\n",
    "print(selected)"
   ]
  },
  {
   "cell_type": "code",
   "execution_count": 58,
   "id": "edebad4d-4763-4845-9790-bd499589b8ed",
   "metadata": {},
   "outputs": [
    {
     "name": "stdout",
     "output_type": "stream",
     "text": [
      "[79 65 50 63 56 90 85 98 79 51]\n",
      "[50 56 51]\n",
      "[90 85 98]\n",
      "[79 65 63 79]\n"
     ]
    }
   ],
   "source": [
    "#Practice\n",
    "\n",
    "porridge = np.array([79, 65 , 50 , 63, 56, 90, 85, 98, 79, 51])\n",
    "print(porridge)\n",
    "\n",
    "cold = porridge[porridge < 60]\n",
    "print(cold)\n",
    "\n",
    "hot = porridge[porridge > 80]\n",
    "print(hot)\n",
    "\n",
    "just_right = porridge[(porridge > 60 ) & (porridge < 80)]\n",
    "print(just_right)"
   ]
  }
 ],
 "metadata": {
  "kernelspec": {
   "display_name": "Python 3",
   "language": "python",
   "name": "python3"
  },
  "language_info": {
   "codemirror_mode": {
    "name": "ipython",
    "version": 3
   },
   "file_extension": ".py",
   "mimetype": "text/x-python",
   "name": "python",
   "nbconvert_exporter": "python",
   "pygments_lexer": "ipython3",
   "version": "3.8.8"
  }
 },
 "nbformat": 4,
 "nbformat_minor": 5
}
