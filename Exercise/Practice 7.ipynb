{
 "cells": [
  {
   "cell_type": "code",
   "execution_count": 2,
   "id": "29c6546c-0bc4-496a-99e5-1027e92284d8",
   "metadata": {},
   "outputs": [
    {
     "name": "stdout",
     "output_type": "stream",
     "text": [
      "[5 0 3 3 7 9]\n",
      "[[3 5 2 4]\n",
      " [7 6 8 8]\n",
      " [1 6 7 7]]\n",
      "[[[8 1 5 9 8]\n",
      "  [9 4 3 0 3]\n",
      "  [5 0 2 3 8]\n",
      "  [1 3 3 3 7]]\n",
      "\n",
      " [[0 1 9 9 0]\n",
      "  [4 7 3 2 7]\n",
      "  [2 0 0 4 5]\n",
      "  [5 6 8 4 1]]\n",
      "\n",
      " [[4 9 8 1 1]\n",
      "  [7 9 9 3 6]\n",
      "  [7 2 0 3 5]\n",
      "  [9 4 4 6 4]]]\n"
     ]
    }
   ],
   "source": [
    "#Random number generator\n",
    "import numpy as np\n",
    "\n",
    "np.random.seed(0)\n",
    "arr1 = np.random.randint(10, size=6)\n",
    "print(arr1)\n",
    "\n",
    "arr2 = np.random.randint(10, size=(3,4))\n",
    "print(arr2)\n",
    "\n",
    "arr3 = np.random.randint(10, size=(3,4,5))\n",
    "print(arr3)"
   ]
  },
  {
   "cell_type": "code",
   "execution_count": 3,
   "id": "80d0de76-70a5-40fe-bf22-a15736ef1c6c",
   "metadata": {},
   "outputs": [
    {
     "name": "stdout",
     "output_type": "stream",
     "text": [
      "[[3 5 2 4]\n",
      " [7 6 8 8]\n",
      " [1 6 7 7]]\n",
      "arr2.ndim =  2\n",
      "arr2.shape =  (3, 4)\n",
      "arr2.size =  12\n",
      "arr2.dtype =  int32\n",
      "arr2.itemsize =  4\n",
      "arr2.nbytes =  48\n"
     ]
    }
   ],
   "source": [
    "#Attributes\n",
    "print(arr2)\n",
    "\n",
    "print(\"arr2.ndim = \", arr2.ndim)\n",
    "print(\"arr2.shape = \", arr2.shape) #**\n",
    "print(\"arr2.size = \", arr2.size) #**\n",
    "print(\"arr2.dtype = \", arr2.dtype) #**\n",
    "print(\"arr2.itemsize = \", arr2.itemsize)\n",
    "print(\"arr2.nbytes = \", arr2.nbytes)"
   ]
  },
  {
   "cell_type": "code",
   "execution_count": 4,
   "id": "f465d79e-c5df-4cb9-8224-58ef53e1ddcb",
   "metadata": {},
   "outputs": [
    {
     "name": "stdout",
     "output_type": "stream",
     "text": [
      "[0 1 2 3 4 5 6 7 8 9]\n"
     ]
    }
   ],
   "source": [
    "#Slicing\n",
    "\n",
    "arr= np.arange(10)\n",
    "print(arr)\n",
    "\n"
   ]
  },
  {
   "cell_type": "code",
   "execution_count": 5,
   "id": "d4a8407d-5ffa-4fbe-bdff-a96dc53e2526",
   "metadata": {},
   "outputs": [
    {
     "name": "stdout",
     "output_type": "stream",
     "text": [
      "[[5 0 3 3 7 9 3 5]\n",
      " [2 4 7 6 8 8 1 6]\n",
      " [7 7 8 1 5 9 8 9]\n",
      " [4 3 0 3 5 0 2 3]\n",
      " [8 1 3 3 3 7 0 1]\n",
      " [9 9 0 4 7 3 2 7]]\n",
      "[[5 0 2]\n",
      " [3 7 0]]\n"
     ]
    }
   ],
   "source": [
    "# Multi-dimensional \n",
    "np.random.seed(0)\n",
    "arr = np.random.randint(10, size=(6,8))\n",
    "print(arr)\n",
    "\n",
    "arr_sub = arr[3:5, 4:7]\n",
    "print(arr_sub)"
   ]
  },
  {
   "cell_type": "code",
   "execution_count": 8,
   "id": "fc7a2195-1918-4af9-b940-0719a4ed9e8b",
   "metadata": {},
   "outputs": [
    {
     "name": "stderr",
     "output_type": "stream",
     "text": [
      "<ipython-input-8-b1785515a06b>:3: VisibleDeprecationWarning: Creating an ndarray from ragged nested sequences (which is a list-or-tuple of lists-or-tuples-or ndarrays with different lengths or shapes) is deprecated. If you meant to do this, you must specify 'dtype=object' when creating the ndarray.\n",
      "  arr = np.array([12,5,2,4, [7,6,8,8,]])\n"
     ]
    }
   ],
   "source": [
    "#.copy()\n",
    "\n",
    "arr = np.array([12,5,2,4, [7,6,8,8,]])"
   ]
  },
  {
   "cell_type": "code",
   "execution_count": null,
   "id": "98e41593-2495-403f-bf23-ce59099337c2",
   "metadata": {},
   "outputs": [],
   "source": []
  },
  {
   "cell_type": "code",
   "execution_count": null,
   "id": "543c12b6-bd3a-45b4-ac4b-baff5f1051a8",
   "metadata": {},
   "outputs": [],
   "source": []
  }
 ],
 "metadata": {
  "kernelspec": {
   "display_name": "Python 3",
   "language": "python",
   "name": "python3"
  },
  "language_info": {
   "codemirror_mode": {
    "name": "ipython",
    "version": 3
   },
   "file_extension": ".py",
   "mimetype": "text/x-python",
   "name": "python",
   "nbconvert_exporter": "python",
   "pygments_lexer": "ipython3",
   "version": "3.8.8"
  }
 },
 "nbformat": 4,
 "nbformat_minor": 5
}
