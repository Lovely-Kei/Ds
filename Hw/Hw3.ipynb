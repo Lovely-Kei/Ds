{
 "cells": [
  {
   "cell_type": "code",
   "execution_count": 95,
   "id": "51b8d3cf-7345-4f1c-a38c-2906fc0dc969",
   "metadata": {},
   "outputs": [
    {
     "name": "stdout",
     "output_type": "stream",
     "text": [
      "Average price is 31.875000\n",
      "[25, 20, 35, 15, 15, 30, 45, 30]\n",
      "Total revenue is 1085.000000\n",
      "Average daily revenue is 155.000000\n",
      "['bouffant', 'pixie', 'crew', 'bowl']\n"
     ]
    }
   ],
   "source": [
    "#Create Variables\n",
    "hairstyles = [\"bouffant\", \"pixie\", \"dreadlocks\", \"crew\", \"bowl\", \"bob\", \"mohawk\", \"flattop\"]\n",
    "prices = [30, 25, 40, 20, 20, 35, 50, 35]\n",
    "last_week = [2, 3, 5, 8, 4, 4, 6, 2]\n",
    "\n",
    "#Average Price\n",
    "total_price = 0\n",
    "\n",
    "for i in prices:\n",
    "    total_price += i\n",
    "average_price = total_price / len(prices)\n",
    "print(\"Average price is %f\" % (average_price))\n",
    "\n",
    "#New Prices\n",
    "new_prices = [i - 5 for i in prices]\n",
    "print(new_prices)\n",
    "\n",
    "#Total Revenue\n",
    "total_revenue = 0\n",
    "\n",
    "for i in range(len(hairstyles)):\n",
    "    total_revenue += prices[i] * last_week[i]\n",
    "print(\"Total revenue is %f\" % (total_revenue)) # 10번 지시문에 의거해서 그냥 추가했습니다\n",
    "\n",
    "#Average Daily Revenue\n",
    "average_daily_revenue = total_revenue / 7\n",
    "print(\"Average daily revenue is %f\" % (average_daily_revenue))\n",
    "\n",
    "#cuts under 30\n",
    "cuts_under_30 = [hairstyles[i] for i in range(len(new_prices)) if new_prices[i] < 30]\n",
    "print(cuts_under_30)"
   ]
  }
 ],
 "metadata": {
  "kernelspec": {
   "display_name": "Python 3",
   "language": "python",
   "name": "python3"
  },
  "language_info": {
   "codemirror_mode": {
    "name": "ipython",
    "version": 3
   },
   "file_extension": ".py",
   "mimetype": "text/x-python",
   "name": "python",
   "nbconvert_exporter": "python",
   "pygments_lexer": "ipython3",
   "version": "3.8.8"
  }
 },
 "nbformat": 4,
 "nbformat_minor": 5
}
